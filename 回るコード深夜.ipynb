{
  "nbformat": 4,
  "nbformat_minor": 0,
  "metadata": {
    "colab": {
      "provenance": [],
      "authorship_tag": "ABX9TyOLSNwIiLTCOL9sO9QE2zCI",
      "include_colab_link": true
    },
    "kernelspec": {
      "name": "python3",
      "display_name": "Python 3"
    },
    "language_info": {
      "name": "python"
    }
  },
  "cells": [
    {
      "cell_type": "markdown",
      "metadata": {
        "id": "view-in-github",
        "colab_type": "text"
      },
      "source": [
        "<a href=\"https://colab.research.google.com/github/TomoharuKurosu/macro_KurosuTomoharu/blob/main/%E5%9B%9E%E3%82%8B%E3%82%B3%E3%83%BC%E3%83%89%E6%B7%B1%E5%A4%9C.ipynb\" target=\"_parent\"><img src=\"https://colab.research.google.com/assets/colab-badge.svg\" alt=\"Open In Colab\"/></a>"
      ]
    },
    {
      "cell_type": "code",
      "execution_count": 226,
      "metadata": {
        "id": "DGKtH4wdTHpt"
      },
      "outputs": [],
      "source": [
        "import numpy as np\n",
        "from scipy.stats import norm\n",
        "\n",
        "def tauchen(n, mu, rho, sigma):\n",
        "    # Function to implement Tauchen's method for discretizing a continuous state space\n",
        "    # Inputs:\n",
        "    # n: number of grid points\n",
        "    # mu: mean of the AR(1) process\n",
        "    # rho: AR(1) coefficien（相関）\n",
        "    # sigma: standard deviation of the error term\n",
        "    # Outputs:\n",
        "    # transition_matrix: n x n transition matrix\n",
        "    # state_space: n x 1 vector of state space points\n",
        "#np.sqrt=√\n",
        "    m = 1 / np.sqrt(1 - rho**2)\n",
        "\n",
        "    # Compute the state space　n分割　mu\n",
        "    state_space = np.linspace(mu - m*sigma, mu + m*sigma, n)\n",
        "\n",
        "    # Compute the distance between grid points 　均等な間隔\n",
        "    d = (state_space[n-1] - state_space[0]) / (n - 1)\n",
        "\n",
        "    # Compute the transition probabilities\n",
        "    # n×nの行列を作成\n",
        "    transition_matrix = np.zeros((n, n))\n",
        "    for i in range(n): # today state　行\n",
        "        for j in range(n): # tomorrow state　列\n",
        "            if j == 0: # prob going to the lower limit　右端代表\n",
        "                transition_matrix[i, j] = norm.cdf((state_space[0] - rho*state_space[i] + d/2) / sigma)\n",
        "            elif j == n-1: # prob going to the upper limit　左端代表\n",
        "                transition_matrix[i, j] = 1 - norm.cdf((state_space[n-1] - rho*state_space[i] - d/2) / sigma)\n",
        "            else:\n",
        "                z_low = (state_space[j] - rho*state_space[i] - d/2) / sigma # the lower bound　中身を埋めてる\n",
        "                z_high = (state_space[j] - rho*state_space[i] + d/2) / sigma # the higher bound\n",
        "                transition_matrix[i, j] = norm.cdf(z_high) - norm.cdf(z_low)\n",
        "\n",
        "    return transition_matrix, state_space"
      ]
    },
    {
      "cell_type": "code",
      "source": [
        "import numpy as np\n",
        "\n",
        "# function to comile parameters into one thing \"parameter\"　rho＝ろー　　　setPar=スタンダード\n",
        "def setPar(\n",
        "    sigma = 1.50, # risk aversion\n",
        "    beta = 0.98, # subjective discount factor\n",
        "    delta = 0.03, # depreciation\n",
        "    alpha = 0.25, # capital’s share of income\n",
        "    rho = 0.6, # labor productivity persistence\n",
        "    a_l = 0, # lower bound of asset grids\n",
        "    a_u = 20, # upper bound of asset grids\n",
        "    NH = 2, # number of grids of h\n",
        "    NA = 401, # number of grids of a\n",
        "    ):\n",
        "\n",
        "    # labor productivity variance.\n",
        "    sigma_eps = np.sqrt(0.6*(1-rho**2))\n",
        "\n",
        "    # making grids for ln h and solving for income transition probability using Tauchen's method.\n",
        "    pi, h = tauchen(NH, -0.7, rho, sigma_eps)\n",
        "    h = np.exp(h) # changing ln h grids to h grids　　eのh乗\n",
        "\n",
        "    # derive the stationary distribution from income transition process\n",
        "\n",
        "    probst = np.ones((NH))/NH # setting the guess probability to a uniform distribution\n",
        "    test = 10.0 # initialize the distance to a big number\n",
        "\n",
        "    while test > 1e-8: # loop until convergence of the stationary distribution\n",
        "        probst_new = np.zeros((NH)) # initialize new distribution\n",
        "        for ih in range(NH): # today h\n",
        "            for ihp in range(NH): # tomorrow h　４つのペア　　＋＝とΣと同じ（つみかさね）\n",
        "                probst_new[ihp] += pi[ih, ihp]*probst[ih]\n",
        "\n",
        "        test = np.max(np.abs(probst_new - probst)) # calculate the difference between the guess and the new distribution　absは絶対値\n",
        "        probst = probst_new # updating the guess　明日を今日更新\n",
        "\n",
        "    HH = np.sum(h*probst) # aggregate effective labor　ないせき\n",
        "\n",
        "\t  # create dictionary with parameters\n",
        "    param = {}\n",
        "    param['sigma'] = sigma; param['beta'] = beta; param['delta'] = delta;\n",
        "    param['alpha'] = alpha; param['probst'] = probst;\n",
        "    param['a_l'] = a_l; param['a_u'] = a_u; param['NH'] = NH; param['NA'] = NA;\n",
        "    param['pi'] = pi; param['h'] = h; param['HH'] = HH;\n",
        "\n",
        "    return param\n"
      ],
      "metadata": {
        "id": "LbAuHTzOTadT"
      },
      "execution_count": 227,
      "outputs": []
    },
    {
      "cell_type": "code",
      "source": [
        "def solve_household_gs(param, r, w):\n",
        "\n",
        "    # opening the box of \"param\" to some parameters\n",
        "    a_l = param['a_l']; a_u = param['a_u']; pi = param['pi']; delta = param['delta'];\n",
        "    beta = param['beta']; sigma = param['sigma']; h = param['h']; NA = param['NA'];\n",
        "    NH = param['NH'];\n",
        "\n",
        "    # Create a grid of asset holdings　NA=401　a_lからa_uを４０１分割\n",
        "    a = np.linspace(a_l, a_u, NA)\n",
        "\n",
        "    # Initialize the utility function to a large negative number for zero or negative consumption　初期値ー１００００　高さ、横、タテ\n",
        "    util = np.full((NA, NA, NH), -10000.0)\n",
        "\n",
        "    # Calculate utility if the agent chooses asset a[iap] for each asset combination a[ia] and income shock h[ih]\n",
        "    for ia in range(NA):\n",
        "        for iap in range(NA):\n",
        "            for ih in range(NH):\n",
        "                cons = w*h[ih] + (1.0 + r)*a[ia] - a[iap]\n",
        "                if cons >  0: # count only if consumption is positive\n",
        "                    util[iap, ia, ih] = cons**(1.0-sigma)/(1.0-sigma)\n",
        "\n",
        "\n",
        "    # Initialize some variables\n",
        "    v = np.zeros((NA, NH))\n",
        "    aplus = np.zeros((NA, NH))\n",
        "    c = np.zeros((NA, NH))\n",
        "    v_new = np.zeros((NA, NH))\n",
        "    iaplus_new = np.full((NA, NH), -10000)\n",
        "    iaplus = np.full((NA, NH), -10000)\n",
        "    reward = np.zeros((NA, NA, NH))\n",
        "\n",
        "    # Iterate on Bellman's equation and get the decision rules and the value function at the optimum\n",
        "    test = 10\n",
        "    while test != 0: # loop until policy function converges\n",
        "        for ia in range(NA):\n",
        "            for ih in range(NH):\n",
        "                reward[:, ia, ih] = util[:, ia, ih]\n",
        "                #: 高さ全部\n",
        "                for ihp in range(NH):\n",
        "                    reward[:, ia, ih] += beta*pi[ih, ihp]*v[:, ihp]\n",
        "\n",
        "        # Finding max of reward\n",
        "        for ia in range(NA):\n",
        "            for ih in range(NH):\n",
        "                v_new[ia, ih] = np.max(reward[:, ia, ih]) # finding the maximal value\n",
        "                iaplus_new[ia, ih] = np.argmax(reward[:, ia, ih]) # finding the index of the maximizer　#最大値下から番号\n",
        "\n",
        "        test = np.max(iaplus_new - iaplus) # stop if iaplus converges\n",
        "        v = v_new\n",
        "        #古き良き文化　決して変わらない　お互不干渉\n",
        "        iaplus = iaplus_new.copy()\n",
        "\n",
        "    aplus = a[iaplus]\n",
        "\n",
        "    # optimal consumption\n",
        "    for ia in range(NA):\n",
        "        for ih in range(NH):\n",
        "            c[ia, ih] = w*h[ih] + (1.0 + r)*a[ia] - aplus[ia, ih]\n",
        "\n",
        "    return aplus, iaplus, c"
      ],
      "metadata": {
        "id": "L5wOSeA8Tft2"
      },
      "execution_count": 228,
      "outputs": []
    },
    {
      "cell_type": "code",
      "source": [
        "def get_distribution(param, decisions):\n",
        "\n",
        "    a_l = param['a_l']; a_u = param['a_u']; pi = param['pi'];\n",
        "    NA = param['NA']; NH = param['NH'];\n",
        "    iaplus = decisions[1]\n",
        "\n",
        "    # Generate a linearly spaced vector of NA values between a_l and a_u\n",
        "    a = np.linspace(a_l, a_u, NA)\n",
        "\n",
        "    test = 10 # Initialize a test value to be greater than 10^-8\n",
        "    phi = np.ones((NA, NH)) / NA / NH # Initialize the distribution phi to be uniform　ファイ\n",
        "\n",
        "    # Loop until the test value is less than 10^-8\n",
        "    while test > 1e-8:\n",
        "        phi_new = np.zeros((NA, NH)) # Initialize a new distribution phi_new to be all zeros\n",
        "        # Loop over all values of a, h, and h'\n",
        "        for ia in range(NA):\n",
        "            for ih in range(NH):\n",
        "                for ihp in range(NH):\n",
        "                    # Update phi_new using the interpolation indices, blending coefficients, and probabilities\n",
        "                    phi_new[iaplus[ia, ih], ihp] += pi[ih, ihp] * phi[ia, ih]\n",
        "        test = np.max(np.abs(phi_new - phi)) # Calculate the maximum difference between phi_new and phi\n",
        "        phi = phi_new # Update phi to be phi_new\n",
        "\n",
        "    return phi"
      ],
      "metadata": {
        "id": "9Zw5AjBKTlfX"
      },
      "execution_count": 229,
      "outputs": []
    },
    {
      "cell_type": "code",
      "source": [
        "\n",
        "\n",
        "def model_solution(param):\n",
        "\n",
        "    alpha = param['alpha']\n",
        "    delta = param['delta']\n",
        "    HH = param['HH']\n",
        "\n",
        "    phi = 0.2 # updating share\n",
        "    toler = 1e-3 # warning: this doens't converge if tolerance is too small\n",
        "    test = 10 # initial difference\n",
        "    KK = 10.0 # initial capital\n",
        "\n",
        "    print('ITERATING ON KK')\n",
        "    print('')\n",
        "    print('  metric    Kold      Knew')\n",
        "\n",
        "    while test > toler:\n",
        "\n",
        "        # Step 1\n",
        "        # calculate rental rate of capital and w from firm FOC\n",
        "\n",
        "        w = (1-alpha) * KK**(alpha) * HH**(-alpha)\n",
        "        r = (alpha) * KK**(alpha-1) * HH**(1-alpha) - delta\n",
        "\n",
        "        ####################################################\n",
        "        # Step 2: Solving for households optimization (policy function of assets)\n",
        "        ####################################################\n",
        "\n",
        "        decisions = solve_household_gs(param, r, w)\n",
        "\n",
        "        aplus = decisions[0] # note that the first component (index 0) of decisions is defines as aplus\n",
        "\n",
        "        ####################################################\n",
        "        # Step 3: Loop for finding eq distribution and capital\n",
        "        ####################################################\n",
        "\n",
        "        # eq distribution\n",
        "\n",
        "        mu = get_distribution(param, decisions)\n",
        "\n",
        "        # new aggregate capital\n",
        "\n",
        "        KK_new = np.sum(mu*aplus)\n",
        "\n",
        "        ####################################################\n",
        "        # Loop for finding eq capital\n",
        "        ####################################################\n",
        "\n",
        "        # form metric and update iwbqbwqbjqfefwf\n",
        "\n",
        "        test = abs((KK_new - KK)/KK) # loop until K converges\n",
        "        print(['{:.4f}'.format(test), '{:.4f}'.format(KK), '{:.4f}'.format(KK_new)])\n",
        "        #少数４桁　数値、文字列｛｝\n",
        "        KK = phi*KK_new + (1-phi)*KK # update K\n",
        "\n",
        "    return decisions, r, w, KK, HH, mu"
      ],
      "metadata": {
        "id": "IzvWAofpTpWx"
      },
      "execution_count": 230,
      "outputs": []
    },
    {
      "cell_type": "code",
      "source": [
        "import matplotlib.pyplot as plt\n",
        "\n",
        "param = setPar()\n",
        "(decisions, r, w, KK, HH, mu) = model_solution(param)\n",
        "\n",
        "#mu=4o1hima"
      ],
      "metadata": {
        "colab": {
          "base_uri": "https://localhost:8080/"
        },
        "id": "fh6QZEarTtgA",
        "outputId": "da0f97e1-a0a6-4e65-eeb1-7dfce4aba99a"
      },
      "execution_count": 232,
      "outputs": [
        {
          "output_type": "stream",
          "name": "stdout",
          "text": [
            "ITERATING ON KK\n",
            "\n",
            "  metric    Kold      Knew\n",
            "['0.5521', '10.0000', '4.4794']\n",
            "['0.3771', '8.8959', '5.5410']\n",
            "['0.1315', '8.2249', '7.1431']\n",
            "['0.0205', '8.0085', '8.1730']\n",
            "['0.0025', '8.0414', '8.0614']\n",
            "['0.0015', '8.0454', '8.0337']\n",
            "['0.0023', '8.0431', '8.0614']\n",
            "['0.0031', '8.0467', '8.0219']\n",
            "['0.0024', '8.0418', '8.0614']\n",
            "['0.0091', '8.0457', '7.9724']\n",
            "['0.0117', '8.0310', '8.1249']\n",
            "['0.0083', '8.0498', '7.9828']\n",
            "['0.0039', '8.0364', '8.0676']\n",
            "['0.0005', '8.0426', '8.0386']\n"
          ]
        }
      ]
    },
    {
      "cell_type": "code",
      "source": [
        "h = param['h']\n",
        "a_l = param['a_l']; a_u = param['a_u']; NA = param['NA'];\n",
        "a = np.linspace(a_l, a_u, NA)\n",
        "\n",
        "\n",
        "# calculate income distribution for each grid\n",
        "income = np.array([(r*a + w*h[0]), (r*a + w*h[1])])\n",
        "# # transpose income 転置\n",
        "income = income.T\n",
        "#sorting the income after flattening \"income\"\n",
        "#flattenflatten('F')は多次元を一元\n",
        "# pinc, index = np.sort(income.flatten('F')), np.argsort(income.flatten('F'))\n",
        "# plambda = mu.flatten('F')\n",
        "# #\n",
        "\n",
        "# sort with regard to the 1st argument of zip\n",
        "zip_lists = zip(income.flatten('F'), mu.flatten('F'))\n",
        "# sort upwards\n",
        "zip_sort = sorted(zip_lists)\n",
        "# unzip\n",
        "pinc, pmu = zip(*zip_sort)\n",
        "\n",
        "plt.plot(pinc, pmu)\n",
        "plt.title('INCOME DISTRIBUTION')\n",
        "plt.xlabel('INCOME LEVEL')\n",
        "plt.ylabel('% OF AGENTS')"
      ],
      "metadata": {
        "colab": {
          "base_uri": "https://localhost:8080/",
          "height": 490
        },
        "id": "Jm5_h76STxSc",
        "outputId": "1caf5073-8773-452a-e7c3-bc654d177d06"
      },
      "execution_count": 233,
      "outputs": [
        {
          "output_type": "execute_result",
          "data": {
            "text/plain": [
              "Text(0, 0.5, '% OF AGENTS')"
            ]
          },
          "metadata": {},
          "execution_count": 233
        },
        {
          "output_type": "display_data",
          "data": {
            "text/plain": [
              "<Figure size 640x480 with 1 Axes>"
            ],
            "image/png": "[encoded data removed]"
          },
          "metadata": {}
        }
      ]
    },
    {
      "cell_type": "code",
      "source": [
        "#2\n",
        "summary = (KK,r, w)\n",
        "print('  KK                 r                    w')\n",
        "display(summary)\n",
        "\n",
        "h = param['h']\n",
        "a_l = param['a_l']; a_u = param['a_u']; NA = param['NA'];\n",
        "a = np.linspace(a_l, a_u, NA)\n",
        "\n",
        "\n",
        "\n",
        "# # transpose a 転置\n",
        "a = a.T\n",
        "#sorting the income after flattening \"income\"\n",
        "#flattenflatten('F')は多次元を一元\n",
        "# pinc, index = np.sort(income.flatten('F')), np.argsort(income.flatten('F'))\n",
        "# plambda = mu.flatten('F')\n",
        "# #\n",
        "\n",
        "# sort with regard to the 1st argument of zip\n",
        "zip_lists_a = zip(a.flatten('F'), mu.flatten('F'))\n",
        "# sort upwards\n",
        "zip_sort_a = sorted(zip_lists_a)\n",
        "# unzip\n",
        "a, pmu = zip(*zip_sort_a)\n",
        "\n",
        "plt.plot(a, pmu)\n",
        "plt.title('CAPITAL DISTRIBUTION')\n",
        "plt.xlabel('CAPITAL LEVEL')\n",
        "plt.ylabel('% OF AGENTS')"
      ],
      "metadata": {
        "colab": {
          "base_uri": "https://localhost:8080/",
          "height": 526
        },
        "id": "vlSaONU79fsd",
        "outputId": "42eb0b5d-534f-4f9a-dc6c-ab0783dbac1b"
      },
      "execution_count": 234,
      "outputs": [
        {
          "output_type": "stream",
          "name": "stdout",
          "text": [
            "  KK                 r                    w\n"
          ]
        },
        {
          "output_type": "display_data",
          "data": {
            "text/plain": [
              "(8.041822600504139, 0.017633798605864934, 1.3033754232108015)"
            ]
          },
          "metadata": {}
        },
        {
          "output_type": "execute_result",
          "data": {
            "text/plain": [
              "Text(0, 0.5, '% OF AGENTS')"
            ]
          },
          "metadata": {},
          "execution_count": 234
        },
        {
          "output_type": "display_data",
          "data": {
            "text/plain": [
              "<Figure size 640x480 with 1 Axes>"
            ],
            "image/png": "[encoded data removed]"
          },
          "metadata": {}
        }
      ]
    },
    {
      "cell_type": "code",
      "source": [
        "import numpy as np\n",
        "from scipy.stats import norm\n",
        "\n",
        "def tauchen(n, mu, rho, sigma):\n",
        "    # Function to implement Tauchen's method for discretizing a continuous state space\n",
        "    # Inputs:\n",
        "    # n: number of grid points\n",
        "    # mu: mean of the AR(1) process\n",
        "    # rho: AR(1) coefficien（相関）\n",
        "    # sigma: standard deviation of the error term\n",
        "    # Outputs:\n",
        "    # transition_matrix: n x n transition matrix\n",
        "    # state_space: n x 1 vector of state space points\n",
        "#np.sqrt=√\n",
        "    m = 1 / np.sqrt(1 - rho**2)\n",
        "\n",
        "    # Compute the state space　n分割　mu\n",
        "    state_space = np.linspace(mu - m*sigma, mu + m*sigma, n)\n",
        "\n",
        "    # Compute the distance between grid points 　均等な間隔\n",
        "    d = (state_space[n-1] - state_space[0]) / (n - 1)\n",
        "\n",
        "    # Compute the transition probabilities\n",
        "    # n×nの行列を作成\n",
        "    transition_matrix = np.zeros((n, n))\n",
        "    for i in range(n): # today state　行\n",
        "        for j in range(n): # tomorrow state　列\n",
        "            if j == 0: # prob going to the lower limit　右端代表\n",
        "                transition_matrix[i, j] = norm.cdf((state_space[0] - rho*state_space[i] + d/2) / sigma)\n",
        "            elif j == n-1: # prob going to the upper limit　左端代表\n",
        "                transition_matrix[i, j] = 1 - norm.cdf((state_space[n-1] - rho*state_space[i] - d/2) / sigma)\n",
        "            else:\n",
        "                z_low = (state_space[j] - rho*state_space[i] - d/2) / sigma # the lower bound　中身を埋めてる\n",
        "                z_high = (state_space[j] - rho*state_space[i] + d/2) / sigma # the higher bound\n",
        "                transition_matrix[i, j] = norm.cdf(z_high) - norm.cdf(z_low)\n",
        "\n",
        "    return transition_matrix, state_space"
      ],
      "metadata": {
        "id": "DN8nvfa4UbVt"
      },
      "execution_count": 235,
      "outputs": []
    },
    {
      "cell_type": "code",
      "source": [
        "import numpy as np\n",
        "\n",
        "# function to comile parameters into one thing \"parameter\"　rho＝ろー　　　setPar=スタンダード\n",
        "def setPar(\n",
        "    sigma = 1.50, # risk aversion\n",
        "    beta = 0.98, # subjective discount factor\n",
        "    delta = 0.03, # depreciation\n",
        "    alpha = 0.25, # capital’s share of income\n",
        "    rho = 0.6, # labor productivity persistence\n",
        "    a_l = 0, # lower bound of asset grids\n",
        "    a_u = 20, # upper bound of asset grids\n",
        "    NH = 2, # number of grids of h\n",
        "    NA = 401, # number of grids of a\n",
        "    ):\n",
        "\n",
        "    # labor productivity variance.\n",
        "    sigma_eps = np.sqrt(0.6*(1-rho**2))\n",
        "\n",
        "    # making grids for ln h and solving for income transition probability using Tauchen's method.\n",
        "    pi, h = tauchen(NH, -0.7, rho, sigma_eps)\n",
        "    h = np.exp(h) # changing ln h grids to h grids　　eのh乗\n",
        "\n",
        "    # derive the stationary distribution from income transition process\n",
        "\n",
        "    probst = np.ones((NH))/NH # setting the guess probability to a uniform distribution\n",
        "    test = 10.0 # initialize the distance to a big number\n",
        "\n",
        "    while test > 1e-8: # loop until convergence of the stationary distribution\n",
        "        probst_new = np.zeros((NH)) # initialize new distribution\n",
        "        for ih in range(NH): # today h\n",
        "            for ihp in range(NH): # tomorrow h　４つのペア　　＋＝とΣと同じ（つみかさね）\n",
        "                probst_new[ihp] += pi[ih, ihp]*probst[ih]\n",
        "\n",
        "        test = np.max(np.abs(probst_new - probst)) # calculate the difference between the guess and the new distribution　absは絶対値\n",
        "        probst = probst_new # updating the guess　明日を今日更新\n",
        "\n",
        "    HH = np.sum(h*probst) # aggregate effective labor　ないせき\n",
        "\n",
        "\t  # create dictionary with parameters\n",
        "    param = {}\n",
        "    param['sigma'] = sigma; param['beta'] = beta; param['delta'] = delta;\n",
        "    param['alpha'] = alpha; param['probst'] = probst;\n",
        "    param['a_l'] = a_l; param['a_u'] = a_u; param['NH'] = NH; param['NA'] = NA;\n",
        "    param['pi'] = pi; param['h'] = h; param['HH'] = HH;\n",
        "\n",
        "    return param\n"
      ],
      "metadata": {
        "id": "qCEMpFwAUgz9"
      },
      "execution_count": 279,
      "outputs": []
    },
    {
      "cell_type": "code",
      "source": [
        "def solve_household_gs(param, r, w):\n",
        "\n",
        "    # opening the box of \"param\" to some parameters\n",
        "    a_l = param['a_l']; a_u = param['a_u']; pi = param['pi']; delta = param['delta'];\n",
        "    beta = param['beta']; sigma = param['sigma']; h = param['h']; NA = param['NA'];\n",
        "    NH = param['NH'];\n",
        "\n",
        "    # Create a grid of asset holdings　NA=401　a_lからa_uを４０１分割\n",
        "    a = np.linspace(a_l, a_u, NA)\n",
        "\n",
        "    # Initialize the utility function to a large negative number for zero or negative consumption　初期値ー１００００　高さ、横、タテ\n",
        "    util = np.full((NA, NA, NH), -10000.0)\n",
        "\n",
        "    # Calculate utility if the agent chooses asset a[iap] for each asset combination a[ia] and income shock h[ih]\n",
        "    for ia in range(NA):\n",
        "        for iap in range(NA):\n",
        "            for ih in range(NH):\n",
        "                cons = w*h[ih] + (1.0 + r_t)*a[ia] - a[iap]\n",
        "                if cons > 0: # count only if consumption is positive\n",
        "                    util[iap, ia, ih] = cons**(1.0-sigma)/(1.0-sigma)\n",
        "\n",
        "\n",
        "    # Initialize some variables\n",
        "    v = np.zeros((NA, NH))\n",
        "    aplus = np.zeros((NA, NH))\n",
        "    c = np.zeros((NA, NH))\n",
        "    v_new = np.zeros((NA, NH))\n",
        "    iaplus_new = np.full((NA, NH), -10000)\n",
        "    iaplus = np.full((NA, NH), -10000)\n",
        "    reward = np.zeros((NA, NA, NH))\n",
        "\n",
        "    # Iterate on Bellman's equation and get the decision rules and the value function at the optimum\n",
        "    test = 10\n",
        "    while test != 0: # loop until policy function converges\n",
        "        for ia in range(NA):\n",
        "            for ih in range(NH):\n",
        "                reward[:, ia, ih] = util[:, ia, ih]\n",
        "                #: 高さ全部\n",
        "                for ihp in range(NH):\n",
        "                    reward[:, ia, ih] += beta*pi[ih, ihp]*v[:, ihp]\n",
        "\n",
        "        # Finding max of reward\n",
        "        for ia in range(NA):\n",
        "            for ih in range(NH):\n",
        "                v_new[ia, ih] = np.max(reward[:, ia, ih]) # finding the maximal value\n",
        "                iaplus_new[ia, ih] = np.argmax(reward[:, ia, ih]) # finding the index of the maximizer　#最大値下から番号\n",
        "\n",
        "        test = np.max(iaplus_new - iaplus) # stop if iaplus converges\n",
        "        v = v_new\n",
        "        #古き良き文化　決して変わらない　お互不干渉\n",
        "        iaplus = iaplus_new.copy()\n",
        "\n",
        "    aplus = a[iaplus]\n",
        "\n",
        "    # optimal consumption\n",
        "    for ia in range(NA):\n",
        "        for ih in range(NH):\n",
        "            c[ia, ih] = w*h[ih] + (1.0 + r_t)*a[ia] - aplus[ia, ih]\n",
        "\n",
        "    return aplus, iaplus, c"
      ],
      "metadata": {
        "id": "qTqw_uGnUth1"
      },
      "execution_count": 280,
      "outputs": []
    },
    {
      "cell_type": "code",
      "source": [
        "def get_distribution(param, decisions):\n",
        "\n",
        "    a_l = param['a_l']; a_u = param['a_u']; pi = param['pi'];\n",
        "    NA = param['NA']; NH = param['NH'];\n",
        "    iaplus = decisions[1]\n",
        "\n",
        "    # Generate a linearly spaced vector of NA values between a_l and a_u\n",
        "    a = np.linspace(a_l, a_u, NA)\n",
        "\n",
        "    test = 10 # Initialize a test value to be greater than 10^-8\n",
        "    phi = np.ones((NA, NH)) / NA / NH # Initialize the distribution phi to be uniform　ファイ\n",
        "\n",
        "    # Loop until the test value is less than 10^-8\n",
        "    while test > 1e-8:\n",
        "        phi_new = np.zeros((NA, NH)) # Initialize a new distribution phi_new to be all zeros\n",
        "        # Loop over all values of a, h, and h'\n",
        "        for ia in range(NA):\n",
        "            for ih in range(NH):\n",
        "                for ihp in range(NH):\n",
        "                    # Update phi_new using the interpolation indices, blending coefficients, and probabilities\n",
        "                    phi_new[iaplus[ia, ih], ihp] += pi[ih, ihp] * phi[ia, ih]\n",
        "        test = np.max(np.abs(phi_new - phi)) # Calculate the maximum difference between phi_new and phi\n",
        "        phi = phi_new # Update phi to be phi_new\n",
        "\n",
        "    return phi"
      ],
      "metadata": {
        "id": "KgY0WZ2k7Sle"
      },
      "execution_count": 281,
      "outputs": []
    },
    {
      "cell_type": "code",
      "source": [
        "def model_solution(param):\n",
        "\n",
        "    alpha = param['alpha']\n",
        "    delta = param['delta']\n",
        "    HH = param['HH']\n",
        "\n",
        "    phi = 0.2 # updating share\n",
        "    toler = 1e-3 # warning: this doens't converge if tolerance is too small\n",
        "    test = 10 # initial difference\n",
        "    KK = 5.0 # initial capital\n",
        "\n",
        "    print('ITERATING ON KK')\n",
        "    print('')\n",
        "    print('  metric    Kold      Knew')\n",
        "\n",
        "    while test > toler:\n",
        "        t=0.05\n",
        "        # Step 1\n",
        "\n",
        "\n",
        "\n",
        "\n",
        "        # calculate rental rate of capital and w from firm FOC\n",
        "        w = (1-alpha) * KK**(alpha) * HH**(-alpha)\n",
        "        r_t = ((alpha) * KK**(alpha-1) * HH**(1-alpha) - delta)*((1-t))\n",
        "\n",
        "        ####################################################\n",
        "        # Step 2: Solving for households optimization (policy function of assets)\n",
        "        ####################################################\n",
        "\n",
        "        decisions = solve_household_gs(param, r_t, w)\n",
        "\n",
        "        aplus = decisions[0] # note that the first component (index 0) of decisions is defines as aplus\n",
        "\n",
        "        ####################################################\n",
        "        # Step 3: Loop for finding eq distribution and capital\n",
        "        ####################################################\n",
        "\n",
        "        # eq distribution\n",
        "\n",
        "        mu_t = get_distribution(param, decisions)\n",
        "\n",
        "        # new aggregate capital\n",
        "\n",
        "        KK_new = np.sum(mu_t*aplus)\n",
        "\n",
        "        ####################################################\n",
        "        # Loop for finding eq capital\n",
        "        ####################################################\n",
        "\n",
        "        # form metric and update iwbqbwqbjqfefwf\n",
        "\n",
        "        test = abs((KK_new - KK)/KK) # loop until K converges\n",
        "        print(['{:.4f}'.format(test), '{:.4f}'.format(KK), '{:.4f}'.format(KK_new)])\n",
        "        #少数４桁　数値、文字列｛｝\n",
        "        KK = phi*KK_new + (1-phi)*KK # update K\n",
        "\n",
        "    return decisions, r_t, w, KK, HH, mu_t"
      ],
      "metadata": {
        "id": "cujJQQQ5ZK7v"
      },
      "execution_count": 285,
      "outputs": []
    },
    {
      "cell_type": "code",
      "source": [
        "import matplotlib.pyplot as plt\n",
        "\n",
        "param = setPar()\n",
        "(decisions, r_t, w, KK, HH, mu_t) = model_solution(param)\n"
      ],
      "metadata": {
        "colab": {
          "base_uri": "https://localhost:8080/"
        },
        "id": "0-TISmPlZeU2",
        "outputId": "27e7504a-f563-457b-f2c1-66691059e9fc"
      },
      "execution_count": 286,
      "outputs": [
        {
          "output_type": "stream",
          "name": "stdout",
          "text": [
            "ITERATING ON KK\n",
            "\n",
            "  metric    Kold      Knew\n",
            "['0.5623', '5.0000', '2.1886']\n",
            "['0.5219', '4.4377', '2.1215']\n",
            "['0.4807', '3.9745', '2.0641']\n",
            "['0.4427', '3.5924', '2.0021']\n",
            "['0.4030', '3.2743', '1.9547']\n",
            "['0.3625', '3.0104', '1.9191']\n",
            "['0.3241', '2.7921', '1.8872']\n",
            "['0.2893', '2.6112', '1.8557']\n",
            "['0.2580', '2.4601', '1.8253']\n",
            "['0.2269', '2.3331', '1.8037']\n",
            "['0.1978', '2.2272', '1.7867']\n",
            "['0.1711', '2.1391', '1.7732']\n",
            "['0.1473', '2.0659', '1.7617']\n",
            "['0.1312', '2.0051', '1.7420']\n",
            "['0.1142', '1.9525', '1.7295']\n",
            "['0.1029', '1.9079', '1.7116']\n",
            "['0.0894', '1.8686', '1.7015']\n",
            "['0.0723', '1.8352', '1.7025']\n",
            "['0.0592', '1.8087', '1.7016']\n",
            "['0.0579', '1.7872', '1.6837']\n",
            "['0.0513', '1.7665', '1.6758']\n",
            "['0.0399', '1.7484', '1.6787']\n",
            "['0.0299', '1.7344', '1.6825']\n",
            "['0.0273', '1.7241', '1.6770']\n",
            "['0.0271', '1.7146', '1.6682']\n",
            "['0.0218', '1.7053', '1.6682']\n",
            "['0.0175', '1.6979', '1.6682']\n",
            "['0.0204', '1.6920', '1.6575']\n",
            "['0.0174', '1.6851', '1.6557']\n",
            "['0.0128', '1.6792', '1.6577']\n",
            "['0.0094', '1.6749', '1.6591']\n",
            "['0.0072', '1.6717', '1.6597']\n",
            "['0.0058', '1.6693', '1.6597']\n",
            "['0.0046', '1.6674', '1.6597']\n",
            "['0.0037', '1.6659', '1.6597']\n",
            "['0.0030', '1.6646', '1.6597']\n",
            "['0.0024', '1.6636', '1.6597']\n",
            "['0.0019', '1.6629', '1.6597']\n",
            "['0.0015', '1.6622', '1.6597']\n",
            "['0.0012', '1.6617', '1.6597']\n",
            "['0.0050', '1.6613', '1.6530']\n",
            "['0.0040', '1.6597', '1.6530']\n",
            "['0.0032', '1.6583', '1.6530']\n",
            "['0.0026', '1.6573', '1.6530']\n",
            "['0.0058', '1.6564', '1.6468']\n",
            "['0.0046', '1.6545', '1.6468']\n",
            "['0.0037', '1.6530', '1.6468']\n",
            "['0.0030', '1.6517', '1.6468']\n",
            "['0.0024', '1.6508', '1.6468']\n",
            "['0.0019', '1.6500', '1.6468']\n",
            "['0.0015', '1.6493', '1.6468']\n",
            "['0.0012', '1.6488', '1.6468']\n",
            "['0.0010', '1.6484', '1.6468']\n"
          ]
        }
      ]
    },
    {
      "cell_type": "code",
      "source": [
        "h = param['h']\n",
        "a_l = param['a_l']; a_u = param['a_u']; NA = param['NA'];\n",
        "a = np.linspace(a_l, a_u, NA)\n",
        "\n",
        "\n",
        "# calculate income distribution for each grid\n",
        "income = np.array([(r_t*a + w*h[0]), (r_t*a + w*h[1])])\n",
        "# # transpose income 転置\n",
        "income = income.T\n",
        "#sorting the income after flattening \"income\"\n",
        "#flattenflatten('F')は多次元を一元\n",
        "# pinc, index = np.sort(income.flatten('F')), np.argsort(income.flatten('F'))\n",
        "# plambda = mu.flatten('F')\n",
        "# #\n",
        "\n",
        "# sort with regard to the 1st argument of zip\n",
        "zip_lists = zip(income.flatten('F'), mu_t.flatten('F'))\n",
        "# sort upwards\n",
        "zip_sort = sorted(zip_lists)\n",
        "# unzip\n",
        "pinc, pmu_t = zip(*zip_sort)\n",
        "t=0.05\n",
        "tax_volume= sum(t*np.array(pmu_t))\n",
        "plt.plot(pinc+tax_volume, pmu_t)\n",
        "plt.title('INCOME DISTRIBUTION')\n",
        "plt.xlabel('INCOME LEVEL')\n",
        "plt.ylabel('% OF AGENTS')\n"
      ],
      "metadata": {
        "colab": {
          "base_uri": "https://localhost:8080/",
          "height": 490
        },
        "id": "WiuizPmeZjfb",
        "outputId": "4312a082-ee98-4c9e-c436-837207d3dcd8"
      },
      "execution_count": 287,
      "outputs": [
        {
          "output_type": "execute_result",
          "data": {
            "text/plain": [
              "Text(0, 0.5, '% OF AGENTS')"
            ]
          },
          "metadata": {},
          "execution_count": 287
        },
        {
          "output_type": "display_data",
          "data": {
            "text/plain": [
              "<Figure size 640x480 with 1 Axes>"
            ],
            "image/png": "[encoded data removed]"
          },
          "metadata": {}
        }
      ]
    },
    {
      "cell_type": "code",
      "source": [
        "from re import T\n",
        "summary = (KK,r-T, w)\n",
        "print('  KK                 r_t                    w')\n",
        "display(summary)\n",
        "\n",
        "h = param['h']\n",
        "a_l = param['a_l']; a_u = param['a_u']; NA = param['NA'];\n",
        "a = np.linspace(a_l, a_u, NA)\n",
        "\n",
        "\n",
        "\n",
        "# # transpose a 転置\n",
        "a = a.T\n",
        "#sorting the income after flattening \"income\"\n",
        "#flattenflatten('F')は多次元を一元\n",
        "# pinc, index = np.sort(income.flatten('F')), np.argsort(income.flatten('F'))\n",
        "# plambda = mu.flatten('F')\n",
        "# #\n",
        "\n",
        "# sort with regard to the 1st argument of zip\n",
        "zip_lists_a = zip(a.flatten('F'), mu_t.flatten('F'))\n",
        "# sort upwards\n",
        "zip_sort_a = sorted(zip_lists_a)\n",
        "# unzip\n",
        "a, pmu_t = zip(*zip_sort_a)\n",
        "\n",
        "plt.plot(a, pmu_t)\n",
        "plt.title('CAPITAL DISTRIBUTION')\n",
        "plt.xlabel('CAPITAL LEVEL')\n",
        "plt.ylabel('% OF AGENTS')"
      ],
      "metadata": {
        "colab": {
          "base_uri": "https://localhost:8080/",
          "height": 526
        },
        "id": "Th35ArHJnopa",
        "outputId": "877ccca5-fdf8-4429-f7c8-7e8c59f91a5d"
      },
      "execution_count": 288,
      "outputs": [
        {
          "output_type": "stream",
          "name": "stdout",
          "text": [
            "  KK                 r_t                    w\n"
          ]
        },
        {
          "output_type": "display_data",
          "data": {
            "text/plain": [
              "(1.6481110173844538, -0.9823662013941351, 0.8769761192829937)"
            ]
          },
          "metadata": {}
        },
        {
          "output_type": "execute_result",
          "data": {
            "text/plain": [
              "Text(0, 0.5, '% OF AGENTS')"
            ]
          },
          "metadata": {},
          "execution_count": 288
        },
        {
          "output_type": "display_data",
          "data": {
            "text/plain": [
              "<Figure size 640x480 with 1 Axes>"
            ],
            "image/png": "[encoded data removed]"
          },
          "metadata": {}
        }
      ]
    },
    {
      "cell_type": "code",
      "source": [
        "print(r_t)\n",
        "print(r)"
      ],
      "metadata": {
        "colab": {
          "base_uri": "https://localhost:8080/"
        },
        "id": "Dtvwiftejcxa",
        "outputId": "3ca244df-401e-494c-c4a2-561825878c38"
      },
      "execution_count": 248,
      "outputs": [
        {
          "output_type": "stream",
          "name": "stdout",
          "text": [
            "0.09880760999692054\n",
            "0.017633798605864934\n"
          ]
        }
      ]
    },
    {
      "cell_type": "markdown",
      "source": [],
      "metadata": {
        "id": "XAalSQLATBBb"
      }
    }
  ]
}