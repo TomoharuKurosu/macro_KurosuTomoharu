{
  "nbformat": 4,
  "nbformat_minor": 0,
  "metadata": {
    "colab": {
      "provenance": [],
      "authorship_tag": "ABX9TyMDwea/e2EVxxZPMn4HBGRF",
      "include_colab_link": true
    },
    "kernelspec": {
      "name": "python3",
      "display_name": "Python 3"
    },
    "language_info": {
      "name": "python"
    }
  },
  "cells": [
    {
      "cell_type": "markdown",
      "metadata": {
        "id": "view-in-github",
        "colab_type": "text"
      },
      "source": [
        "<a href=\"https://colab.research.google.com/github/TomoharuKurosu/macro_KurosuTomoharu/blob/main/TomoharuKurosu_22107627_final.ipynb\" target=\"_parent\"><img src=\"https://colab.research.google.com/assets/colab-badge.svg\" alt=\"Open In Colab\"/></a>"
      ]
    },
    {
      "cell_type": "code",
      "execution_count": 1,
      "metadata": {
        "id": "jv8O6qxHDhLC"
      },
      "outputs": [],
      "source": [
        "import numpy as np\n",
        "from scipy.stats import norm\n",
        "\n",
        "def tauchen(n, mu, rho, sigma):\n",
        "    # Function to implement Tauchen's method for discretizing a continuous state space\n",
        "    # Inputs:\n",
        "    # n: number of grid points\n",
        "    # mu: mean of the AR(1) process\n",
        "    # rho: AR(1) coefficien（相関）\n",
        "    # sigma: standard deviation of the error term\n",
        "    # Outputs:\n",
        "    # transition_matrix: n x n transition matrix\n",
        "    # state_space: n x 1 vector of state space points\n",
        "#np.sqrt=√\n",
        "    m = 1 / np.sqrt(1 - rho**2)\n",
        "\n",
        "    # Compute the state space　n分割　mu\n",
        "    state_space = np.linspace(mu - m*sigma, mu + m*sigma, n)\n",
        "\n",
        "    # Compute the distance between grid points 　均等な間隔\n",
        "    d = (state_space[n-1] - state_space[0]) / (n - 1)\n",
        "\n",
        "    # Compute the transition probabilities\n",
        "    # n×nの行列を作成\n",
        "    transition_matrix = np.zeros((n, n))\n",
        "    for i in range(n): # today state　行\n",
        "        for j in range(n): # tomorrow state　列\n",
        "            if j == 0: # prob going to the lower limit　右端代表\n",
        "                transition_matrix[i, j] = norm.cdf((state_space[0] - rho*state_space[i] + d/2) / sigma)\n",
        "            elif j == n-1: # prob going to the upper limit　左端代表\n",
        "                transition_matrix[i, j] = 1 - norm.cdf((state_space[n-1] - rho*state_space[i] - d/2) / sigma)\n",
        "            else:\n",
        "                z_low = (state_space[j] - rho*state_space[i] - d/2) / sigma # the lower bound　中身を埋めてる\n",
        "                z_high = (state_space[j] - rho*state_space[i] + d/2) / sigma # the higher bound\n",
        "                transition_matrix[i, j] = norm.cdf(z_high) - norm.cdf(z_low)\n",
        "\n",
        "    return transition_matrix, state_space"
      ]
    },
    {
      "cell_type": "code",
      "source": [
        "import numpy as np\n",
        "\n",
        "# function to comile parameters into one thing \"parameter\"　rho＝ろー　　　setPar=スタンダード\n",
        "def setPar(\n",
        "    sigma = 1.50, # risk aversion\n",
        "    beta = 0.98, # subjective discount factor\n",
        "    delta = 0.03, # depreciation\n",
        "    alpha = 0.25, # capital’s share of income\n",
        "    rho = 0.6, # labor productivity persistence\n",
        "    a_l = 0, # lower bound of asset grids\n",
        "    a_u = 20, # upper bound of asset grids\n",
        "    NH = 2, # number of grids of h\n",
        "    NA = 401, # number of grids of a\n",
        "    ):\n",
        "\n",
        "    # labor productivity variance.\n",
        "    sigma_eps = np.sqrt(0.6*(1-rho**2))\n",
        "\n",
        "    # making grids for ln h and solving for income transition probability using Tauchen's method.\n",
        "    pi, h = tauchen(NH, -0.7, rho, sigma_eps)\n",
        "    h = np.exp(h) # changing ln h grids to h grids　　eのh乗\n",
        "\n",
        "    # derive the stationary distribution from income transition process\n",
        "\n",
        "    probst = np.ones((NH))/NH # setting the guess probability to a uniform distribution\n",
        "    test = 10.0 # initialize the distance to a big number\n",
        "\n",
        "    while test > 1e-8: # loop until convergence of the stationary distribution\n",
        "        probst_new = np.zeros((NH)) # initialize new distribution\n",
        "        for ih in range(NH): # today h\n",
        "            for ihp in range(NH): # tomorrow h　４つのペア　　＋＝とΣと同じ（つみかさね）\n",
        "                probst_new[ihp] += pi[ih, ihp]*probst[ih]\n",
        "\n",
        "        test = np.max(np.abs(probst_new - probst)) # calculate the difference between the guess and the new distribution　absは絶対値\n",
        "        probst = probst_new # updating the guess　明日を今日更新\n",
        "\n",
        "    HH = np.sum(h*probst) # aggregate effective labor　ないせき\n",
        "\n",
        "\t  # create dictionary with parameters\n",
        "    param = {}\n",
        "    param['sigma'] = sigma; param['beta'] = beta; param['delta'] = delta;\n",
        "    param['alpha'] = alpha; param['probst'] = probst;\n",
        "    param['a_l'] = a_l; param['a_u'] = a_u; param['NH'] = NH; param['NA'] = NA;\n",
        "    param['pi'] = pi; param['h'] = h; param['HH'] = HH;\n",
        "\n",
        "    return param\n"
      ],
      "metadata": {
        "id": "j1IRIgf1Dv_1"
      },
      "execution_count": 2,
      "outputs": []
    },
    {
      "cell_type": "code",
      "source": [
        "def solve_household_gs(param, r, w):\n",
        "\n",
        "    # opening the box of \"param\" to some parameters\n",
        "    a_l = param['a_l']; a_u = param['a_u']; pi = param['pi']; delta = param['delta'];\n",
        "    beta = param['beta']; sigma = param['sigma']; h = param['h']; NA = param['NA'];\n",
        "    NH = param['NH'];\n",
        "\n",
        "    # Create a grid of asset holdings　NA=401　a_lからa_uを４０１分割\n",
        "    a = np.linspace(a_l, a_u, NA)\n",
        "\n",
        "    # Initialize the utility function to a large negative number for zero or negative consumption　初期値ー１００００　高さ、横、タテ\n",
        "    util = np.full((NA, NA, NH), -10000.0)\n",
        "\n",
        "    # Calculate utility if the agent chooses asset a[iap] for each asset combination a[ia] and income shock h[ih]\n",
        "    for ia in range(NA):\n",
        "        for iap in range(NA):\n",
        "            for ih in range(NH):\n",
        "                cons = w*h[ih] + (1.0 + r)*a[ia] - a[iap]\n",
        "                if cons >  0: # count only if consumption is positive\n",
        "                    util[iap, ia, ih] = cons**(1.0-sigma)/(1.0-sigma)\n",
        "\n",
        "\n",
        "    # Initialize some variables\n",
        "    v = np.zeros((NA, NH))\n",
        "    aplus = np.zeros((NA, NH))\n",
        "    c = np.zeros((NA, NH))\n",
        "    v_new = np.zeros((NA, NH))\n",
        "    iaplus_new = np.full((NA, NH), -10000)\n",
        "    iaplus = np.full((NA, NH), -10000)\n",
        "    reward = np.zeros((NA, NA, NH))\n",
        "\n",
        "    # Iterate on Bellman's equation and get the decision rules and the value function at the optimum\n",
        "    test = 10\n",
        "    while test != 0: # loop until policy function converges\n",
        "        for ia in range(NA):\n",
        "            for ih in range(NH):\n",
        "                reward[:, ia, ih] = util[:, ia, ih]\n",
        "                #: 高さ全部\n",
        "                for ihp in range(NH):\n",
        "                    reward[:, ia, ih] += beta*pi[ih, ihp]*v[:, ihp]\n",
        "\n",
        "        # Finding max of reward\n",
        "        for ia in range(NA):\n",
        "            for ih in range(NH):\n",
        "                v_new[ia, ih] = np.max(reward[:, ia, ih]) # finding the maximal value\n",
        "                iaplus_new[ia, ih] = np.argmax(reward[:, ia, ih]) # finding the index of the maximizer　#最大値下から番号\n",
        "\n",
        "        test = np.max(iaplus_new - iaplus) # stop if iaplus converges\n",
        "        v = v_new\n",
        "        #古き良き文化　決して変わらない　お互不干渉\n",
        "        iaplus = iaplus_new.copy()\n",
        "\n",
        "    aplus = a[iaplus]\n",
        "\n",
        "    # optimal consumption\n",
        "    for ia in range(NA):\n",
        "        for ih in range(NH):\n",
        "            c[ia, ih] = w*h[ih] + (1.0 + r)*a[ia] - aplus[ia, ih]\n",
        "\n",
        "    return aplus, iaplus, c"
      ],
      "metadata": {
        "id": "hS5erIR8D0JW"
      },
      "execution_count": 3,
      "outputs": []
    },
    {
      "cell_type": "code",
      "source": [
        "def get_distribution(param, decisions):\n",
        "\n",
        "    a_l = param['a_l']; a_u = param['a_u']; pi = param['pi'];\n",
        "    NA = param['NA']; NH = param['NH'];\n",
        "    iaplus = decisions[1]\n",
        "\n",
        "    # Generate a linearly spaced vector of NA values between a_l and a_u\n",
        "    a = np.linspace(a_l, a_u, NA)\n",
        "\n",
        "    test = 10 # Initialize a test value to be greater than 10^-8\n",
        "    phi = np.ones((NA, NH)) / NA / NH # Initialize the distribution phi to be uniform　ファイ\n",
        "\n",
        "    # Loop until the test value is less than 10^-8\n",
        "    while test > 1e-8:\n",
        "        phi_new = np.zeros((NA, NH)) # Initialize a new distribution phi_new to be all zeros\n",
        "        # Loop over all values of a, h, and h'\n",
        "        for ia in range(NA):\n",
        "            for ih in range(NH):\n",
        "                for ihp in range(NH):\n",
        "                    # Update phi_new using the interpolation indices, blending coefficients, and probabilities\n",
        "                    phi_new[iaplus[ia, ih], ihp] += pi[ih, ihp] * phi[ia, ih]\n",
        "        test = np.max(np.abs(phi_new - phi)) # Calculate the maximum difference between phi_new and phi\n",
        "        phi = phi_new # Update phi to be phi_new\n",
        "\n",
        "    return phi"
      ],
      "metadata": {
        "id": "MgvirNoGD3P7"
      },
      "execution_count": 4,
      "outputs": []
    },
    {
      "cell_type": "code",
      "source": [
        "def model_solution(param):\n",
        "\n",
        "    alpha = param['alpha']\n",
        "    delta = param['delta']\n",
        "    HH = param['HH']\n",
        "\n",
        "    phi = 0.2 # updating share\n",
        "    toler = 1e-3 # warning: this doens't converge if tolerance is too small\n",
        "    test = 10 # initial difference\n",
        "    KK = 8.0 # initial capital\n",
        "\n",
        "    print('ITERATING ON KK')\n",
        "    print('')\n",
        "    print('  metric    Kold      Knew')\n",
        "\n",
        "    while test > toler:\n",
        "\n",
        "        # Step 1\n",
        "        # calculate rental rate of capital and w from firm FOC\n",
        "\n",
        "        w = (1-alpha) * KK**(alpha) * HH**(-alpha)\n",
        "        r = (alpha) * KK**(alpha-1) * HH**(1-alpha) - delta\n",
        "\n",
        "        ####################################################\n",
        "        # Step 2: Solving for households optimization (policy function of assets)\n",
        "        ####################################################\n",
        "\n",
        "        decisions = solve_household_gs(param, r, w)\n",
        "\n",
        "        aplus = decisions[0] # note that the first component (index 0) of decisions is defines as aplus\n",
        "\n",
        "        ####################################################\n",
        "        # Step 3: Loop for finding eq distribution and capital\n",
        "        ####################################################\n",
        "\n",
        "        # eq distribution\n",
        "\n",
        "        mu = get_distribution(param, decisions)\n",
        "\n",
        "        # new aggregate capital\n",
        "\n",
        "        KK_new = np.sum(mu*aplus)\n",
        "\n",
        "        ####################################################\n",
        "        # Loop for finding eq capital\n",
        "        ####################################################\n",
        "\n",
        "        # form metric and update iwbqbwqbjqfefwf\n",
        "\n",
        "        test = abs((KK_new - KK)/KK) # loop until K converges\n",
        "        print(['{:.4f}'.format(test), '{:.4f}'.format(KK), '{:.4f}'.format(KK_new)])\n",
        "        #少数４桁　数値、文字列｛｝\n",
        "        KK = phi*KK_new + (1-phi)*KK # update K\n",
        "\n",
        "    return decisions, r, w, KK, HH, mu"
      ],
      "metadata": {
        "id": "HemyQEGHD7Iv"
      },
      "execution_count": 5,
      "outputs": []
    },
    {
      "cell_type": "code",
      "source": [
        "import matplotlib.pyplot as plt\n",
        "\n",
        "param = setPar()\n",
        "(decisions, r, w, KK, HH, mu) = model_solution(param)\n",
        "\n",
        "#mu=4o1hima"
      ],
      "metadata": {
        "colab": {
          "base_uri": "https://localhost:8080/"
        },
        "id": "2E6As0OeD-OV",
        "outputId": "e2ea6366-01f4-414c-eaa8-dbefee77b8f9"
      },
      "execution_count": 6,
      "outputs": [
        {
          "output_type": "stream",
          "name": "stdout",
          "text": [
            "ITERATING ON KK\n",
            "\n",
            "  metric    Kold      Knew\n",
            "['0.0369', '8.0000', '8.2956']\n",
            "['0.0172', '8.0591', '7.9202']\n",
            "['0.0113', '8.0313', '8.1220']\n",
            "['0.0083', '8.0495', '7.9828']\n",
            "['0.0108', '8.0361', '8.1227']\n",
            "['0.0111', '8.0534', '7.9638']\n",
            "['0.0040', '8.0355', '8.0676']\n",
            "['0.0038', '8.0419', '8.0112']\n",
            "['0.0055', '8.0358', '8.0799']\n",
            "['0.0073', '8.0446', '7.9861']\n",
            "['0.0111', '8.0329', '8.1220']\n",
            "['0.0036', '8.0507', '8.0219']\n",
            "['0.0113', '8.0449', '7.9537']\n",
            "['0.0125', '8.0267', '8.1266']\n",
            "['0.0031', '8.0467', '8.0219']\n",
            "['0.0017', '8.0417', '8.0284']\n",
            "['0.0047', '8.0391', '8.0770']\n",
            "['0.0031', '8.0466', '8.0219']\n",
            "['0.0016', '8.0417', '8.0284']\n",
            "['0.0047', '8.0390', '8.0770']\n",
            "['0.0031', '8.0466', '8.0219']\n",
            "['0.0025', '8.0417', '8.0614']\n",
            "['0.0091', '8.0456', '7.9724']\n",
            "['0.0117', '8.0310', '8.1249']\n",
            "['0.0083', '8.0497', '7.9828']\n",
            "['0.0039', '8.0364', '8.0676']\n",
            "['0.0005', '8.0426', '8.0386']\n"
          ]
        }
      ]
    },
    {
      "cell_type": "code",
      "source": [
        "h = param['h']\n",
        "a_l = param['a_l']; a_u = param['a_u']; NA = param['NA'];\n",
        "a = np.linspace(a_l, a_u, NA)\n",
        "\n",
        "\n",
        "# calculate income distribution for each grid\n",
        "income = np.array([(r*a + w*h[0]), (r*a + w*h[1])])\n",
        "# # transpose income 転置\n",
        "income = income.T\n",
        "#sorting the income after flattening \"income\"\n",
        "#flattenflatten('F')は多次元を一元\n",
        "# pinc, index = np.sort(income.flatten('F')), np.argsort(income.flatten('F'))\n",
        "# plambda = mu.flatten('F')\n",
        "# #\n",
        "\n",
        "# sort with regard to the 1st argument of zip\n",
        "zip_lists = zip(income.flatten('F'), mu.flatten('F'))\n",
        "# sort upwards\n",
        "zip_sort = sorted(zip_lists)\n",
        "# unzip\n",
        "pinc, pmu = zip(*zip_sort)\n",
        "\n",
        "plt.plot(pinc, pmu)\n",
        "plt.title('INCOME DISTRIBUTION')\n",
        "plt.xlabel('INCOME LEVEL')\n",
        "plt.ylabel('% OF AGENTS')"
      ],
      "metadata": {
        "colab": {
          "base_uri": "https://localhost:8080/",
          "height": 490
        },
        "id": "bf7c5XweECy5",
        "outputId": "fd0093fe-ec55-4dae-fc97-85725fd7f901"
      },
      "execution_count": 7,
      "outputs": [
        {
          "output_type": "execute_result",
          "data": {
            "text/plain": [
              "Text(0, 0.5, '% OF AGENTS')"
            ]
          },
          "metadata": {},
          "execution_count": 7
        },
        {
          "output_type": "display_data",
          "data": {
            "text/plain": [
              "<Figure size 640x480 with 1 Axes>"
            ],
            "image/png": "[encoded data removed]"
          },
          "metadata": {}
        }
      ]
    },
    {
      "cell_type": "code",
      "source": [
        "#2\n",
        "summary = (KK,r, w)\n",
        "print('  KK                 r                    w')\n",
        "display(summary)\n",
        "\n",
        "h = param['h']\n",
        "a_l = param['a_l']; a_u = param['a_u']; NA = param['NA'];\n",
        "a = np.linspace(a_l, a_u, NA)\n",
        "\n",
        "\n",
        "\n",
        "# # transpose a 転置\n",
        "a = a.T\n",
        "#sorting the income after flattening \"income\"\n",
        "#flattenflatten('F')は多次元を一元\n",
        "# pinc, index = np.sort(income.flatten('F')), np.argsort(income.flatten('F'))\n",
        "# plambda = mu.flatten('F')\n",
        "# #\n",
        "\n",
        "# sort with regard to the 1st argument of zip\n",
        "zip_lists_a = zip(a.flatten('F'), mu.flatten('F'))\n",
        "# sort upwards\n",
        "zip_sort_a = sorted(zip_lists_a)\n",
        "# unzip\n",
        "a, pmu = zip(*zip_sort_a)\n",
        "\n",
        "plt.plot(a, pmu)\n",
        "plt.title('CAPITAL DISTRIBUTION')\n",
        "plt.xlabel('CAPITAL LEVEL')\n",
        "plt.ylabel('% OF AGENTS')"
      ],
      "metadata": {
        "colab": {
          "base_uri": "https://localhost:8080/",
          "height": 526
        },
        "id": "8nmqtzq_EOCZ",
        "outputId": "65b6095d-5dce-4372-b3d3-dba6bf79bdd7"
      },
      "execution_count": 8,
      "outputs": [
        {
          "output_type": "stream",
          "name": "stdout",
          "text": [
            "  KK                 r                    w\n"
          ]
        },
        {
          "output_type": "display_data",
          "data": {
            "text/plain": [
              "(8.041799678196188, 0.017633925882265866, 1.3033742623499402)"
            ]
          },
          "metadata": {}
        },
        {
          "output_type": "execute_result",
          "data": {
            "text/plain": [
              "Text(0, 0.5, '% OF AGENTS')"
            ]
          },
          "metadata": {},
          "execution_count": 8
        },
        {
          "output_type": "display_data",
          "data": {
            "text/plain": [
              "<Figure size 640x480 with 1 Axes>"
            ],
            "image/png": "[encoded data removed]"
          },
          "metadata": {}
        }
      ]
    },
    {
      "cell_type": "code",
      "source": [
        "import numpy as np\n",
        "from scipy.stats import norm\n",
        "\n",
        "def tauchen(n, mu, rho, sigma):\n",
        "    # Function to implement Tauchen's method for discretizing a continuous state space\n",
        "    # Inputs:\n",
        "    # n: number of grid points\n",
        "    # mu: mean of the AR(1) process\n",
        "    # rho: AR(1) coefficien（相関）\n",
        "    # sigma: standard deviation of the error term\n",
        "    # Outputs:\n",
        "    # transition_matrix: n x n transition matrix\n",
        "    # state_space: n x 1 vector of state space points\n",
        "#np.sqrt=√\n",
        "    m = 1 / np.sqrt(1 - rho**2)\n",
        "\n",
        "    # Compute the state space　n分割　mu\n",
        "    state_space = np.linspace(mu - m*sigma, mu + m*sigma, n)\n",
        "\n",
        "    # Compute the distance between grid points 　均等な間隔\n",
        "    d = (state_space[n-1] - state_space[0]) / (n - 1)\n",
        "\n",
        "    # Compute the transition probabilities\n",
        "    # n×nの行列を作成\n",
        "    transition_matrix = np.zeros((n, n))\n",
        "    for i in range(n): # today state　行\n",
        "        for j in range(n): # tomorrow state　列\n",
        "            if j == 0: # prob going to the lower limit　右端代表\n",
        "                transition_matrix[i, j] = norm.cdf((state_space[0] - rho*state_space[i] + d/2) / sigma)\n",
        "            elif j == n-1: # prob going to the upper limit　左端代表\n",
        "                transition_matrix[i, j] = 1 - norm.cdf((state_space[n-1] - rho*state_space[i] - d/2) / sigma)\n",
        "            else:\n",
        "                z_low = (state_space[j] - rho*state_space[i] - d/2) / sigma # the lower bound　中身を埋めてる\n",
        "                z_high = (state_space[j] - rho*state_space[i] + d/2) / sigma # the higher bound\n",
        "                transition_matrix[i, j] = norm.cdf(z_high) - norm.cdf(z_low)\n",
        "\n",
        "    return transition_matrix, state_space"
      ],
      "metadata": {
        "id": "R64pv__FESuO"
      },
      "execution_count": 9,
      "outputs": []
    },
    {
      "cell_type": "code",
      "source": [
        "import numpy as np\n",
        "\n",
        "# function to comile parameters into one thing \"parameter\"　rho＝ろー　　　setPar=スタンダード\n",
        "def setPar(\n",
        "    sigma = 1.50, # risk aversion\n",
        "    beta = 0.98, # subjective discount factor\n",
        "    delta = 0.03, # depreciation\n",
        "    alpha = 0.25, # capital’s share of income\n",
        "    rho = 0.6, # labor productivity persistence\n",
        "    a_l = 0, # lower bound of asset grids\n",
        "    a_u = 20, # upper bound of asset grids\n",
        "    NH = 2, # number of grids of h\n",
        "    NA = 401, # number of grids of a\n",
        "    ):\n",
        "\n",
        "    # labor productivity variance.\n",
        "    sigma_eps = np.sqrt(0.6*(1-rho**2))\n",
        "\n",
        "    # making grids for ln h and solving for income transition probability using Tauchen's method.\n",
        "    pi, h = tauchen(NH, -0.7, rho, sigma_eps)\n",
        "    h = np.exp(h) # changing ln h grids to h grids　　eのh乗\n",
        "\n",
        "    # derive the stationary distribution from income transition process\n",
        "\n",
        "    probst = np.ones((NH))/NH # setting the guess probability to a uniform distribution\n",
        "    test = 10.0 # initialize the distance to a big number\n",
        "\n",
        "    while test > 1e-8: # loop until convergence of the stationary distribution\n",
        "        probst_new = np.zeros((NH)) # initialize new distribution\n",
        "        for ih in range(NH): # today h\n",
        "            for ihp in range(NH): # tomorrow h　４つのペア　　＋＝とΣと同じ（つみかさね）\n",
        "                probst_new[ihp] += pi[ih, ihp]*probst[ih]\n",
        "\n",
        "        test = np.max(np.abs(probst_new - probst)) # calculate the difference between the guess and the new distribution　absは絶対値\n",
        "        probst = probst_new # updating the guess　明日を今日更新\n",
        "\n",
        "    HH = np.sum(h*probst) # aggregate effective labor　ないせき\n",
        "\n",
        "\t  # create dictionary with parameters\n",
        "    param = {}\n",
        "    param['sigma'] = sigma; param['beta'] = beta; param['delta'] = delta;\n",
        "    param['alpha'] = alpha; param['probst'] = probst;\n",
        "    param['a_l'] = a_l; param['a_u'] = a_u; param['NH'] = NH; param['NA'] = NA;\n",
        "    param['pi'] = pi; param['h'] = h; param['HH'] = HH;\n",
        "\n",
        "    return param\n"
      ],
      "metadata": {
        "id": "wYpiB5gCEVyE"
      },
      "execution_count": 10,
      "outputs": []
    },
    {
      "cell_type": "code",
      "source": [
        "def solve_household_gs(param, r, w):\n",
        "\n",
        "    # opening the box of \"param\" to some parameters\n",
        "    a_l = param['a_l']; a_u = param['a_u']; pi = param['pi']; delta = param['delta'];\n",
        "    beta = param['beta']; sigma = param['sigma']; h = param['h']; NA = param['NA'];\n",
        "    NH = param['NH'];\n",
        "\n",
        "    # Create a grid of asset holdings　NA=401　a_lからa_uを４０１分割\n",
        "    a = np.linspace(a_l, a_u, NA)\n",
        "\n",
        "    # Initialize the utility function to a large negative number for zero or negative consumption　初期値ー１００００　高さ、横、タテ\n",
        "    util = np.full((NA, NA, NH), -10000.0)\n",
        "\n",
        "    # Calculate utility if the agent chooses asset a[iap] for each asset combination a[ia] and income shock h[ih]\n",
        "    for ia in range(NA):\n",
        "        for iap in range(NA):\n",
        "            for ih in range(NH):\n",
        "                cons = w*h[ih] + (1.0 + r_t)*a[ia] - a[iap]\n",
        "                if cons > 0: # count only if consumption is positive\n",
        "                    util[iap, ia, ih] = cons**(1.0-sigma)/(1.0-sigma)\n",
        "\n",
        "\n",
        "    # Initialize some variables\n",
        "    v = np.zeros((NA, NH))\n",
        "    aplus = np.zeros((NA, NH))\n",
        "    c = np.zeros((NA, NH))\n",
        "    v_new = np.zeros((NA, NH))\n",
        "    iaplus_new = np.full((NA, NH), -10000)\n",
        "    iaplus = np.full((NA, NH), -10000)\n",
        "    reward = np.zeros((NA, NA, NH))\n",
        "\n",
        "    # Iterate on Bellman's equation and get the decision rules and the value function at the optimum\n",
        "    test = 10\n",
        "    while test != 0: # loop until policy function converges\n",
        "        for ia in range(NA):\n",
        "            for ih in range(NH):\n",
        "                reward[:, ia, ih] = util[:, ia, ih]\n",
        "                #: 高さ全部\n",
        "                for ihp in range(NH):\n",
        "                    reward[:, ia, ih] += beta*pi[ih, ihp]*v[:, ihp]\n",
        "\n",
        "        # Finding max of reward\n",
        "        for ia in range(NA):\n",
        "            for ih in range(NH):\n",
        "                v_new[ia, ih] = np.max(reward[:, ia, ih]) # finding the maximal value\n",
        "                iaplus_new[ia, ih] = np.argmax(reward[:, ia, ih]) # finding the index of the maximizer　#最大値下から番号\n",
        "\n",
        "        test = np.max(iaplus_new - iaplus) # stop if iaplus converges\n",
        "        v = v_new\n",
        "        #古き良き文化　決して変わらない　お互不干渉\n",
        "        iaplus = iaplus_new.copy()\n",
        "\n",
        "    aplus = a[iaplus]\n",
        "\n",
        "    # optimal consumption\n",
        "    for ia in range(NA):\n",
        "        for ih in range(NH):\n",
        "            c[ia, ih] = w*h[ih] + (1.0 + r_t)*a[ia] - aplus[ia, ih]\n",
        "\n",
        "    return aplus, iaplus, c"
      ],
      "metadata": {
        "id": "D_KupCQ6EZAz"
      },
      "execution_count": 11,
      "outputs": []
    },
    {
      "cell_type": "code",
      "source": [
        "def get_distribution(param, decisions):\n",
        "\n",
        "    a_l = param['a_l']; a_u = param['a_u']; pi = param['pi'];\n",
        "    NA = param['NA']; NH = param['NH'];\n",
        "    iaplus = decisions[1]\n",
        "\n",
        "    # Generate a linearly spaced vector of NA values between a_l and a_u\n",
        "    a = np.linspace(a_l, a_u, NA)\n",
        "\n",
        "    test = 10 # Initialize a test value to be greater than 10^-8\n",
        "    phi = np.ones((NA, NH)) / NA / NH # Initialize the distribution phi to be uniform　ファイ\n",
        "\n",
        "    # Loop until the test value is less than 10^-8\n",
        "    while test > 1e-8:\n",
        "        phi_new = np.zeros((NA, NH)) # Initialize a new distribution phi_new to be all zeros\n",
        "        # Loop over all values of a, h, and h'\n",
        "        for ia in range(NA):\n",
        "            for ih in range(NH):\n",
        "                for ihp in range(NH):\n",
        "                    # Update phi_new using the interpolation indices, blending coefficients, and probabilities\n",
        "                    phi_new[iaplus[ia, ih], ihp] += pi[ih, ihp] * phi[ia, ih]\n",
        "        test = np.max(np.abs(phi_new - phi)) # Calculate the maximum difference between phi_new and phi\n",
        "        phi = phi_new # Update phi to be phi_new\n",
        "\n",
        "    return phi"
      ],
      "metadata": {
        "id": "VIQns6UDEc9S"
      },
      "execution_count": 12,
      "outputs": []
    },
    {
      "cell_type": "code",
      "source": [
        "def model_solution(param):\n",
        "\n",
        "    alpha = param['alpha']\n",
        "    delta = param['delta']\n",
        "    HH = param['HH']\n",
        "\n",
        "    phi = 0.2 # updating share\n",
        "    toler = 1e-3 # warning: this doens't converge if tolerance is too small\n",
        "    test = 10 # initial difference\n",
        "    KK = 5.0 # initial capital\n",
        "\n",
        "    print('ITERATING ON KK')\n",
        "    print('')\n",
        "    print('  metric    Kold      Knew')\n",
        "\n",
        "    while test > toler:\n",
        "        t=0.05\n",
        "        # Step 1\n",
        "\n",
        "\n",
        "\n",
        "\n",
        "        # calculate rental rate of capital and w from firm FOC\n",
        "        w = (1-alpha) * KK**(alpha) * HH**(-alpha)\n",
        "        r_t = ((alpha) * KK**(alpha-1) * HH**(1-alpha) - delta)*((1-t))\n",
        "\n",
        "        ####################################################\n",
        "        # Step 2: Solving for households optimization (policy function of assets)\n",
        "        ####################################################\n",
        "\n",
        "        decisions = solve_household_gs(param, r_t, w)\n",
        "\n",
        "        aplus = decisions[0] # note that the first component (index 0) of decisions is defines as aplus\n",
        "\n",
        "        ####################################################\n",
        "        # Step 3: Loop for finding eq distribution and capital\n",
        "        ####################################################\n",
        "\n",
        "        # eq distribution\n",
        "\n",
        "        mu_t = get_distribution(param, decisions)\n",
        "\n",
        "        # new aggregate capital\n",
        "\n",
        "        KK_new = np.sum(mu_t*aplus)\n",
        "\n",
        "        ####################################################\n",
        "        # Loop for finding eq capital\n",
        "        ####################################################\n",
        "\n",
        "        # form metric and update iwbqbwqbjqfefwf\n",
        "\n",
        "        test = abs((KK_new - KK)/KK) # loop until K converges\n",
        "        print(['{:.4f}'.format(test), '{:.4f}'.format(KK), '{:.4f}'.format(KK_new)])\n",
        "        #少数４桁　数値、文字列｛｝\n",
        "        KK = phi*KK_new + (1-phi)*KK # update K\n",
        "\n",
        "    return decisions, r_t, w, KK, HH, mu_t"
      ],
      "metadata": {
        "id": "j9wrT23_EgCl"
      },
      "execution_count": 13,
      "outputs": []
    },
    {
      "cell_type": "code",
      "source": [
        "import matplotlib.pyplot as plt\n",
        "\n",
        "KK = 10.0\n",
        "delta = 0.03\n",
        "alpha = 0.25\n",
        "t=0.05\n",
        "r_t = ((alpha) * KK**(alpha-1) * HH**(1-alpha) - delta)*((1-t))\n",
        "param = setPar()\n",
        "(decisions, r_t, w, KK, HH, mu_t) = model_solution(param)\n"
      ],
      "metadata": {
        "colab": {
          "base_uri": "https://localhost:8080/"
        },
        "id": "alJIwm06Ei1V",
        "outputId": "ecbc6f1b-e129-47fc-db32-cf43d2f27702"
      },
      "execution_count": 14,
      "outputs": [
        {
          "output_type": "stream",
          "name": "stdout",
          "text": [
            "ITERATING ON KK\n",
            "\n",
            "  metric    Kold      Knew\n",
            "['0.2675', '5.0000', '3.6626']\n",
            "['0.2358', '4.7325', '3.6165']\n",
            "['0.2072', '4.5093', '3.5748']\n",
            "['0.1810', '4.3224', '3.5401']\n",
            "['0.1593', '4.1659', '3.5025']\n",
            "['0.1385', '4.0332', '3.4747']\n",
            "['0.1207', '3.9215', '3.4482']\n",
            "['0.1048', '3.8269', '3.4260']\n",
            "['0.0880', '3.7467', '3.4169']\n",
            "['0.0765', '3.6807', '3.3992']\n",
            "['0.0681', '3.6244', '3.3775']\n",
            "['0.0537', '3.5751', '3.3829']\n",
            "['0.0504', '3.5366', '3.3583']\n",
            "['0.0417', '3.5010', '3.3549']\n",
            "['0.0364', '3.4718', '3.3454']\n",
            "['0.0291', '3.4465', '3.3463']\n",
            "['0.0260', '3.4264', '3.3375']\n",
            "['0.0208', '3.4087', '3.3376']\n",
            "['0.0162', '3.3944', '3.3393']\n",
            "['0.0135', '3.3834', '3.3377']\n",
            "['0.0151', '3.3743', '3.3233']\n",
            "['0.0118', '3.3641', '3.3244']\n",
            "['0.0122', '3.3561', '3.3151']\n",
            "['0.0097', '3.3479', '3.3155']\n",
            "['0.0078', '3.3414', '3.3152']\n",
            "['0.0062', '3.3362', '3.3155']\n",
            "['0.0049', '3.3321', '3.3156']\n",
            "['0.0039', '3.3288', '3.3159']\n",
            "['0.0032', '3.3262', '3.3156']\n",
            "['0.0025', '3.3241', '3.3156']\n",
            "['0.0020', '3.3224', '3.3156']\n",
            "['0.0016', '3.3210', '3.3156']\n",
            "['0.0013', '3.3200', '3.3156']\n",
            "['0.0010', '3.3191', '3.3156']\n",
            "['0.0008', '3.3184', '3.3156']\n"
          ]
        }
      ]
    },
    {
      "cell_type": "code",
      "source": [
        "h = param['h']\n",
        "a_l = param['a_l']; a_u = param['a_u']; NA = param['NA'];\n",
        "a = np.linspace(a_l, a_u, NA)\n",
        "\n",
        "\n",
        "# calculate income distribution for each grid\n",
        "income_t = np.array([(r_t*a + w*h[0]), (r_t*a + w*h[1])])\n",
        "# # transpose income 転置\n",
        "income_t = income_t.T\n",
        "#sorting the income after flattening \"income\"\n",
        "#flattenflatten('F')は多次元を一元\n",
        "# pinc, index = np.sort(income.flatten('F')), np.argsort(income.flatten('F'))\n",
        "# plambda = mu.flatten('F')\n",
        "# #\n",
        "\n",
        "# sort with regard to the 1st argument of zip\n",
        "zip_lists = zip(income_t.flatten('F'), mu_t.flatten('F'))\n",
        "# sort upwards\n",
        "zip_sort = sorted(zip_lists)\n",
        "# unzip\n",
        "pinc_t, pmu_t = zip(*zip_sort)\n",
        "t=0.05\n",
        "tax_volume= sum(t*np.array(pmu_t))\n",
        "plt.plot(pinc_t+tax_volume, pmu_t)\n",
        "plt.title('INCOME DISTRIBUTION')\n",
        "plt.xlabel('INCOME LEVEL')\n",
        "plt.ylabel('% OF AGENTS')\n"
      ],
      "metadata": {
        "colab": {
          "base_uri": "https://localhost:8080/",
          "height": 490
        },
        "id": "BMT86aDSEmC9",
        "outputId": "57525ced-dad0-4a68-bd6b-8beac49bef2f"
      },
      "execution_count": 19,
      "outputs": [
        {
          "output_type": "execute_result",
          "data": {
            "text/plain": [
              "Text(0, 0.5, '% OF AGENTS')"
            ]
          },
          "metadata": {},
          "execution_count": 19
        },
        {
          "output_type": "display_data",
          "data": {
            "text/plain": [
              "<Figure size 640x480 with 1 Axes>"
            ],
            "image/png": "[encoded data removed]"
          },
          "metadata": {}
        }
      ]
    },
    {
      "cell_type": "code",
      "source": [
        "from re import T\n",
        "summary = (KK,r-T, w)\n",
        "print('  KK                 r_t                    w')\n",
        "display(summary)\n",
        "\n",
        "h = param['h']\n",
        "a_l = param['a_l']; a_u = param['a_u']; NA = param['NA'];\n",
        "a = np.linspace(a_l, a_u, NA)\n",
        "\n",
        "\n",
        "\n",
        "# # transpose a 転置\n",
        "a = a.T\n",
        "#sorting the income after flattening \"income\"\n",
        "#flattenflatten('F')は多次元を一元\n",
        "# pinc, index = np.sort(income.flatten('F')), np.argsort(income.flatten('F'))\n",
        "# plambda = mu.flatten('F')\n",
        "# #\n",
        "\n",
        "# sort with regard to the 1st argument of zip\n",
        "zip_lists_a = zip(a.flatten('F'), mu_t.flatten('F'))\n",
        "# sort upwards\n",
        "zip_sort_a = sorted(zip_lists_a)\n",
        "# unzip\n",
        "a, pmu_t = zip(*zip_sort_a)\n",
        "\n",
        "plt.plot(a, pmu_t)\n",
        "plt.title('CAPITAL DISTRIBUTION')\n",
        "plt.xlabel('CAPITAL LEVEL')\n",
        "plt.ylabel('% OF AGENTS')"
      ],
      "metadata": {
        "colab": {
          "base_uri": "https://localhost:8080/",
          "height": 526
        },
        "id": "oECqmPxfEqO4",
        "outputId": "bdfa7cb3-c4f6-4a61-973c-0da943d73976"
      },
      "execution_count": 20,
      "outputs": [
        {
          "output_type": "stream",
          "name": "stdout",
          "text": [
            "  KK                 r_t                    w\n"
          ]
        },
        {
          "output_type": "display_data",
          "data": {
            "text/plain": [
              "(3.317843770605391, -0.9823660741177341, 1.0446049464183946)"
            ]
          },
          "metadata": {}
        },
        {
          "output_type": "execute_result",
          "data": {
            "text/plain": [
              "Text(0, 0.5, '% OF AGENTS')"
            ]
          },
          "metadata": {},
          "execution_count": 20
        },
        {
          "output_type": "display_data",
          "data": {
            "text/plain": [
              "<Figure size 640x480 with 1 Axes>"
            ],
            "image/png": "[encoded data removed]"
          },
          "metadata": {}
        }
      ]
    },
    {
      "cell_type": "code",
      "source": [
        "print(r_t)\n",
        "print(r)\n",
        "\n",
        "summary = (KK,r, w)\n",
        "print('  KK                 r                    w')\n",
        "display(summary)"
      ],
      "metadata": {
        "colab": {
          "base_uri": "https://localhost:8080/",
          "height": 88
        },
        "id": "mJcdaoM9EtdP",
        "outputId": "7db62d1d-490c-492d-c834-9eef96c29f9e"
      },
      "execution_count": 39,
      "outputs": [
        {
          "output_type": "stream",
          "name": "stdout",
          "text": [
            "0.0594004645281062\n",
            "0.017633925882265866\n",
            "  KK                 r                    w\n"
          ]
        },
        {
          "output_type": "display_data",
          "data": {
            "text/plain": [
              "(3.317843770605391, 0.017633925882265866, 1.0446049464183946)"
            ]
          },
          "metadata": {}
        }
      ]
    },
    {
      "cell_type": "code",
      "source": [
        "\n",
        "# 元のタプル\n",
        "np.array(pmu)\n",
        "np.array(pmu_t)\n",
        "\n",
        "\n",
        "# 新しいタプルを作成して元のタプルを置き換える\n",
        "pmu_22 = tuple(x for x in np.array(pmu) for _ in range(2))\n",
        "pmu_t_22 = tuple(x for x in np.array(pmu) for _ in range(2))\n",
        "\n",
        "# 新しいタプルを出力する\n",
        "GDP=np.array(pinc)*np.array(pmu_22)\n",
        "GDP_t=np.array(pinc_t)*np.array(pmu_t_22)\n",
        "GDP_variation=sum(GDP_t)/sum(GDP)\n",
        "print('GDP_variation')\n",
        "print(GDP_variation)\n",
        "print()\n",
        "income_inequality = max(pinc)-min(pinc)\n",
        "income_t_inequality_t = max(pinc_t+tax_volume)-min(pinc_t+tax_volume)\n",
        "income_inequality_tax_influence=income_inequality-income_t_inequality_t\n",
        "print(income_inequality_tax_influence)"
      ],
      "metadata": {
        "colab": {
          "base_uri": "https://localhost:8080/"
        },
        "id": "rYN1rDp_Eurs",
        "outputId": "f8df1196-7fef-4202-8146-21440aad4b00"
      },
      "execution_count": 40,
      "outputs": [
        {
          "output_type": "stream",
          "name": "stdout",
          "text": [
            "GDP_variation\n",
            "1.0\n",
            "\n",
            "0.0\n"
          ]
        }
      ]
    },
    {
      "cell_type": "code",
      "source": [],
      "metadata": {
        "id": "izvYkI7JHZ5D"
      },
      "execution_count": null,
      "outputs": []
    }
  ]
}